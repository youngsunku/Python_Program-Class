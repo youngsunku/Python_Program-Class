{
 "cells": [
  {
   "cell_type": "code",
   "execution_count": 1,
   "id": "10eae469",
   "metadata": {},
   "outputs": [
    {
     "name": "stderr",
     "output_type": "stream",
     "text": [
      "Downloading...\n",
      "From: https://bit.ly/3q9SZix\n",
      "To: C:\\구영선\\python\\Python_Class(2023)\\20s_best_book.json\n",
      "100%|██████████████████████████████████████████████████████████████████████████████| 92.9k/92.9k [00:00<00:00, 790kB/s]\n"
     ]
    },
    {
     "data": {
      "text/plain": [
       "'20s_best_book.json'"
      ]
     },
     "execution_count": 1,
     "metadata": {},
     "output_type": "execute_result"
    }
   ],
   "source": [
    "import gdown\n",
    "\n",
    "gdown.download('https://bit.ly/3q9SZix', '20s_best_book.json', quiet=False)"
   ]
  },
  {
   "cell_type": "code",
   "execution_count": 2,
   "id": "48b53d73",
   "metadata": {},
   "outputs": [
    {
     "data": {
      "text/html": [
       "<div>\n",
       "<style scoped>\n",
       "    .dataframe tbody tr th:only-of-type {\n",
       "        vertical-align: middle;\n",
       "    }\n",
       "\n",
       "    .dataframe tbody tr th {\n",
       "        vertical-align: top;\n",
       "    }\n",
       "\n",
       "    .dataframe thead th {\n",
       "        text-align: right;\n",
       "    }\n",
       "</style>\n",
       "<table border=\"1\" class=\"dataframe\">\n",
       "  <thead>\n",
       "    <tr style=\"text-align: right;\">\n",
       "      <th></th>\n",
       "      <th>no</th>\n",
       "      <th>ranking</th>\n",
       "      <th>bookname</th>\n",
       "      <th>authors</th>\n",
       "      <th>publisher</th>\n",
       "      <th>publication_year</th>\n",
       "      <th>isbn13</th>\n",
       "      <th>addition_symbol</th>\n",
       "      <th>vol</th>\n",
       "      <th>class_no</th>\n",
       "      <th>class_nm</th>\n",
       "      <th>loan_count</th>\n",
       "      <th>bookImageURL</th>\n",
       "    </tr>\n",
       "  </thead>\n",
       "  <tbody>\n",
       "    <tr>\n",
       "      <th>0</th>\n",
       "      <td>1</td>\n",
       "      <td>1</td>\n",
       "      <td>우리가 빛의 속도로 갈 수 없다면 :김초엽 소설</td>\n",
       "      <td>지은이: 김초엽</td>\n",
       "      <td>허블</td>\n",
       "      <td>2019</td>\n",
       "      <td>9791190090018</td>\n",
       "      <td>03810</td>\n",
       "      <td></td>\n",
       "      <td>813.7</td>\n",
       "      <td>문학 &gt; 한국문학 &gt; 소설</td>\n",
       "      <td>461</td>\n",
       "      <td>https://image.aladin.co.kr/product/19359/16/co...</td>\n",
       "    </tr>\n",
       "    <tr>\n",
       "      <th>1</th>\n",
       "      <td>2</td>\n",
       "      <td>2</td>\n",
       "      <td>달러구트 꿈 백화점.이미예 장편소설</td>\n",
       "      <td>지은이: 이미예</td>\n",
       "      <td>팩토리나인</td>\n",
       "      <td>2020</td>\n",
       "      <td>9791165341909</td>\n",
       "      <td>03810</td>\n",
       "      <td></td>\n",
       "      <td>813.7</td>\n",
       "      <td>문학 &gt; 한국문학 &gt; 소설</td>\n",
       "      <td>387</td>\n",
       "      <td>https://image.aladin.co.kr/product/24512/70/co...</td>\n",
       "    </tr>\n",
       "    <tr>\n",
       "      <th>2</th>\n",
       "      <td>3</td>\n",
       "      <td>3</td>\n",
       "      <td>지구에서 한아뿐 :정세랑 장편소설</td>\n",
       "      <td>지은이: 정세랑</td>\n",
       "      <td>난다</td>\n",
       "      <td>2019</td>\n",
       "      <td>9791188862290</td>\n",
       "      <td>03810</td>\n",
       "      <td></td>\n",
       "      <td>813.7</td>\n",
       "      <td>문학 &gt; 한국문학 &gt; 소설</td>\n",
       "      <td>383</td>\n",
       "      <td>https://image.aladin.co.kr/product/19804/82/co...</td>\n",
       "    </tr>\n",
       "  </tbody>\n",
       "</table>\n",
       "</div>"
      ],
      "text/plain": [
       "   no  ranking                     bookname   authors publisher  \\\n",
       "0   1        1  우리가 빛의 속도로 갈 수 없다면 :김초엽 소설   지은이: 김초엽        허블   \n",
       "1   2        2         달러구트 꿈 백화점.이미예 장편소설   지은이: 이미예     팩토리나인   \n",
       "2   3        3          지구에서 한아뿐 :정세랑 장편소설   지은이: 정세랑        난다   \n",
       "\n",
       "  publication_year         isbn13 addition_symbol vol  class_no  \\\n",
       "0             2019  9791190090018           03810         813.7   \n",
       "1             2020  9791165341909           03810         813.7   \n",
       "2             2019  9791188862290           03810         813.7   \n",
       "\n",
       "         class_nm  loan_count  \\\n",
       "0  문학 > 한국문학 > 소설         461   \n",
       "1  문학 > 한국문학 > 소설         387   \n",
       "2  문학 > 한국문학 > 소설         383   \n",
       "\n",
       "                                        bookImageURL  \n",
       "0  https://image.aladin.co.kr/product/19359/16/co...  \n",
       "1  https://image.aladin.co.kr/product/24512/70/co...  \n",
       "2  https://image.aladin.co.kr/product/19804/82/co...  "
      ]
     },
     "execution_count": 2,
     "metadata": {},
     "output_type": "execute_result"
    }
   ],
   "source": [
    "import pandas as pd\n",
    "\n",
    "books_df = pd.read_json('20s_best_book.json')\n",
    "books_df.head(3)"
   ]
  },
  {
   "cell_type": "code",
   "execution_count": 3,
   "id": "14212e54",
   "metadata": {},
   "outputs": [
    {
     "data": {
      "text/html": [
       "<div>\n",
       "<style scoped>\n",
       "    .dataframe tbody tr th:only-of-type {\n",
       "        vertical-align: middle;\n",
       "    }\n",
       "\n",
       "    .dataframe tbody tr th {\n",
       "        vertical-align: top;\n",
       "    }\n",
       "\n",
       "    .dataframe thead th {\n",
       "        text-align: right;\n",
       "    }\n",
       "</style>\n",
       "<table border=\"1\" class=\"dataframe\">\n",
       "  <thead>\n",
       "    <tr style=\"text-align: right;\">\n",
       "      <th></th>\n",
       "      <th>no</th>\n",
       "      <th>bookname</th>\n",
       "      <th>authors</th>\n",
       "      <th>publisher</th>\n",
       "      <th>publication_year</th>\n",
       "      <th>isbn13</th>\n",
       "      <th>loan_count</th>\n",
       "      <th>class_nm</th>\n",
       "    </tr>\n",
       "  </thead>\n",
       "  <tbody>\n",
       "    <tr>\n",
       "      <th>0</th>\n",
       "      <td>1</td>\n",
       "      <td>우리가 빛의 속도로 갈 수 없다면 :김초엽 소설</td>\n",
       "      <td>지은이: 김초엽</td>\n",
       "      <td>허블</td>\n",
       "      <td>2019</td>\n",
       "      <td>9791190090018</td>\n",
       "      <td>461</td>\n",
       "      <td>문학 &gt; 한국문학 &gt; 소설</td>\n",
       "    </tr>\n",
       "    <tr>\n",
       "      <th>1</th>\n",
       "      <td>2</td>\n",
       "      <td>달러구트 꿈 백화점.이미예 장편소설</td>\n",
       "      <td>지은이: 이미예</td>\n",
       "      <td>팩토리나인</td>\n",
       "      <td>2020</td>\n",
       "      <td>9791165341909</td>\n",
       "      <td>387</td>\n",
       "      <td>문학 &gt; 한국문학 &gt; 소설</td>\n",
       "    </tr>\n",
       "    <tr>\n",
       "      <th>2</th>\n",
       "      <td>3</td>\n",
       "      <td>지구에서 한아뿐 :정세랑 장편소설</td>\n",
       "      <td>지은이: 정세랑</td>\n",
       "      <td>난다</td>\n",
       "      <td>2019</td>\n",
       "      <td>9791188862290</td>\n",
       "      <td>383</td>\n",
       "      <td>문학 &gt; 한국문학 &gt; 소설</td>\n",
       "    </tr>\n",
       "    <tr>\n",
       "      <th>3</th>\n",
       "      <td>4</td>\n",
       "      <td>시선으로부터, :정세랑 장편소설</td>\n",
       "      <td>지은이: 정세랑</td>\n",
       "      <td>문학동네</td>\n",
       "      <td>2020</td>\n",
       "      <td>9788954672214</td>\n",
       "      <td>370</td>\n",
       "      <td>문학 &gt; 한국문학 &gt; 소설</td>\n",
       "    </tr>\n",
       "    <tr>\n",
       "      <th>4</th>\n",
       "      <td>5</td>\n",
       "      <td>아몬드 :손원평 장편소설</td>\n",
       "      <td>지은이: 손원평</td>\n",
       "      <td>창비</td>\n",
       "      <td>2017</td>\n",
       "      <td>9788936434267</td>\n",
       "      <td>365</td>\n",
       "      <td>문학 &gt; 한국문학 &gt; 소설</td>\n",
       "    </tr>\n",
       "  </tbody>\n",
       "</table>\n",
       "</div>"
      ],
      "text/plain": [
       "   no                     bookname   authors publisher publication_year  \\\n",
       "0   1  우리가 빛의 속도로 갈 수 없다면 :김초엽 소설   지은이: 김초엽        허블             2019   \n",
       "1   2         달러구트 꿈 백화점.이미예 장편소설   지은이: 이미예     팩토리나인             2020   \n",
       "2   3          지구에서 한아뿐 :정세랑 장편소설   지은이: 정세랑        난다             2019   \n",
       "3   4           시선으로부터, :정세랑 장편소설   지은이: 정세랑      문학동네             2020   \n",
       "4   5               아몬드 :손원평 장편소설   지은이: 손원평        창비             2017   \n",
       "\n",
       "          isbn13  loan_count        class_nm  \n",
       "0  9791190090018         461  문학 > 한국문학 > 소설  \n",
       "1  9791165341909         387  문학 > 한국문학 > 소설  \n",
       "2  9791188862290         383  문학 > 한국문학 > 소설  \n",
       "3  9788954672214         370  문학 > 한국문학 > 소설  \n",
       "4  9788936434267         365  문학 > 한국문학 > 소설  "
      ]
     },
     "execution_count": 3,
     "metadata": {},
     "output_type": "execute_result"
    }
   ],
   "source": [
    "books1 = books_df[['no','bookname','authors','publisher','publication_year','isbn13','loan_count','class_nm']]\n",
    "books1.head()"
   ]
  },
  {
   "cell_type": "code",
   "execution_count": 4,
   "id": "7e4116b8",
   "metadata": {},
   "outputs": [
    {
     "data": {
      "text/html": [
       "<div>\n",
       "<style scoped>\n",
       "    .dataframe tbody tr th:only-of-type {\n",
       "        vertical-align: middle;\n",
       "    }\n",
       "\n",
       "    .dataframe tbody tr th {\n",
       "        vertical-align: top;\n",
       "    }\n",
       "\n",
       "    .dataframe thead th {\n",
       "        text-align: right;\n",
       "    }\n",
       "</style>\n",
       "<table border=\"1\" class=\"dataframe\">\n",
       "  <thead>\n",
       "    <tr style=\"text-align: right;\">\n",
       "      <th></th>\n",
       "      <th>bookname</th>\n",
       "      <th>isbn13</th>\n",
       "      <th>loan_count</th>\n",
       "    </tr>\n",
       "  </thead>\n",
       "  <tbody>\n",
       "    <tr>\n",
       "      <th>0</th>\n",
       "      <td>우리가 빛의 속도로 갈 수 없다면 :김초엽 소설</td>\n",
       "      <td>9791190090018</td>\n",
       "      <td>461</td>\n",
       "    </tr>\n",
       "    <tr>\n",
       "      <th>1</th>\n",
       "      <td>달러구트 꿈 백화점.이미예 장편소설</td>\n",
       "      <td>9791165341909</td>\n",
       "      <td>387</td>\n",
       "    </tr>\n",
       "    <tr>\n",
       "      <th>2</th>\n",
       "      <td>지구에서 한아뿐 :정세랑 장편소설</td>\n",
       "      <td>9791188862290</td>\n",
       "      <td>383</td>\n",
       "    </tr>\n",
       "    <tr>\n",
       "      <th>3</th>\n",
       "      <td>시선으로부터, :정세랑 장편소설</td>\n",
       "      <td>9788954672214</td>\n",
       "      <td>370</td>\n",
       "    </tr>\n",
       "    <tr>\n",
       "      <th>4</th>\n",
       "      <td>아몬드 :손원평 장편소설</td>\n",
       "      <td>9788936434267</td>\n",
       "      <td>365</td>\n",
       "    </tr>\n",
       "  </tbody>\n",
       "</table>\n",
       "</div>"
      ],
      "text/plain": [
       "                      bookname         isbn13  loan_count\n",
       "0  우리가 빛의 속도로 갈 수 없다면 :김초엽 소설   9791190090018         461\n",
       "1         달러구트 꿈 백화점.이미예 장편소설   9791165341909         387\n",
       "2          지구에서 한아뿐 :정세랑 장편소설   9791188862290         383\n",
       "3           시선으로부터, :정세랑 장편소설   9788954672214         370\n",
       "4               아몬드 :손원평 장편소설   9788936434267         365"
      ]
     },
     "execution_count": 4,
     "metadata": {},
     "output_type": "execute_result"
    }
   ],
   "source": [
    "books2 = books1[['bookname','isbn13','loan_count']]\n",
    "books2.head()"
   ]
  },
  {
   "cell_type": "code",
   "execution_count": 5,
   "id": "1a2d39ed",
   "metadata": {},
   "outputs": [
    {
     "data": {
      "text/plain": [
       "pandas.core.frame.DataFrame"
      ]
     },
     "execution_count": 5,
     "metadata": {},
     "output_type": "execute_result"
    }
   ],
   "source": [
    "type(books2)"
   ]
  },
  {
   "cell_type": "code",
   "execution_count": 6,
   "id": "c02b1641",
   "metadata": {},
   "outputs": [
    {
     "data": {
      "text/plain": [
       "200"
      ]
     },
     "execution_count": 6,
     "metadata": {},
     "output_type": "execute_result"
    }
   ],
   "source": [
    "len(books2['bookname'])"
   ]
  },
  {
   "cell_type": "code",
   "execution_count": 7,
   "id": "5bf011fd",
   "metadata": {},
   "outputs": [],
   "source": [
    "import requests\n",
    "\n",
    "requests.packages.urllib3.util.ssl_.DEFAULT_CIPHERS += 'HIGH:!DH:!aNULL'\n",
    "try:\n",
    "    requests.packages.urllib3.contrib.pyopenssl.DEFAULT_SSL_CIPHER_LIST += 'HIGH:!DH:!aNULL'\n",
    "except AttributeError:\n",
    "    # no pyopenssl support used / needed / available\n",
    "    pass"
   ]
  },
  {
   "cell_type": "code",
   "execution_count": 10,
   "id": "53f63c50",
   "metadata": {},
   "outputs": [],
   "source": [
    "import requests\n",
    "\n",
    "isbn = 9791190090018      # '우리가 빛의 속도로 갈 수 없다면'의 ISBN\n",
    "url = 'http://www.yes24.com/Product/Search?domain=BOOK&query={}'\n",
    "\n",
    "r = requests.get(url.format(isbn))"
   ]
  },
  {
   "cell_type": "code",
   "execution_count": 11,
   "id": "bd684180",
   "metadata": {},
   "outputs": [],
   "source": [
    "from bs4 import BeautifulSoup"
   ]
  },
  {
   "cell_type": "code",
   "execution_count": 12,
   "id": "f29e6e68",
   "metadata": {},
   "outputs": [],
   "source": [
    "soup = BeautifulSoup(r.text, 'html.parser')"
   ]
  },
  {
   "cell_type": "code",
   "execution_count": 13,
   "id": "457f13e4",
   "metadata": {},
   "outputs": [],
   "source": [
    "def get_wgt(isbn):\n",
    "    # Yes24 도서 검색 페이지 URL\n",
    "    url = 'http://www.yes24.com/Product/Search?domain=BOOK&query={}'\n",
    "    # URL에 ISBN을 넣어 HTML 가져옵니다.\n",
    "    r = requests.get(url.format(isbn))\n",
    "    soup = BeautifulSoup(r.text, 'html.parser')   # HTML 파싱\n",
    "    # 검색 결과에서 해당 도서를 선택합니다.\n",
    "    prd_info = soup.find('a', attrs={'class':'gd_name'})\n",
    "    if prd_info == None:\n",
    "        return ''\n",
    "    # 도서 상세 페이지를 가져옵니다.\n",
    "    url = 'http://www.yes24.com'+prd_info['href']\n",
    "    r = requests.get(url)\n",
    "    soup = BeautifulSoup(r.text, 'html.parser')\n",
    "    # 상품 상세정보 div를 선택합니다.\n",
    "    prd_detail = soup.find('div', attrs={'id':'infoset_specific'})\n",
    "    # 테이블에 있는 tr 태그를 가져옵니다.\n",
    "    prd_tr_list = prd_detail.find_all('tr')\n",
    "    # 쪽수가 들어 있는 th를 찾아 td에 담긴 값을 반환합니다.\n",
    "    for tr in prd_tr_list:\n",
    "        if tr.find('th').get_text() == '쪽수, 무게, 크기':\n",
    "            return tr.find('td').get_text().split()[2]\n",
    "    return ''"
   ]
  },
  {
   "cell_type": "code",
   "execution_count": 14,
   "id": "25571c27",
   "metadata": {},
   "outputs": [
    {
     "data": {
      "text/plain": [
       "'496g'"
      ]
     },
     "execution_count": 14,
     "metadata": {},
     "output_type": "execute_result"
    }
   ],
   "source": [
    "get_wgt(9791190090018)"
   ]
  },
  {
   "cell_type": "code",
   "execution_count": 15,
   "id": "82c20f33",
   "metadata": {},
   "outputs": [],
   "source": [
    "top10_books = books1.head(10)"
   ]
  },
  {
   "cell_type": "code",
   "execution_count": 16,
   "id": "f569950e",
   "metadata": {},
   "outputs": [],
   "source": [
    "def get_wgt2(row):\n",
    "    isbn = row['isbn13']\n",
    "    return get_wgt(isbn)"
   ]
  },
  {
   "cell_type": "code",
   "execution_count": 17,
   "id": "d9154df1",
   "metadata": {},
   "outputs": [
    {
     "name": "stdout",
     "output_type": "stream",
     "text": [
      "0    496g\n",
      "1    358g\n",
      "2    296g\n",
      "3    412g\n",
      "4    388g\n",
      "5    512g\n",
      "6    318g\n",
      "7        \n",
      "8    324g\n",
      "9    406g\n",
      "dtype: object\n"
     ]
    }
   ],
   "source": [
    "book_wgt = top10_books.apply(get_wgt2, axis=1)\n",
    "print(book_wgt)"
   ]
  },
  {
   "cell_type": "code",
   "execution_count": 18,
   "id": "cda43a74",
   "metadata": {},
   "outputs": [
    {
     "name": "stdout",
     "output_type": "stream",
     "text": [
      "0    496g\n",
      "1    358g\n",
      "2    296g\n",
      "3    412g\n",
      "4    388g\n",
      "5    512g\n",
      "6    318g\n",
      "7        \n",
      "8    324g\n",
      "9    406g\n",
      "Name: Book Weight, dtype: object\n"
     ]
    }
   ],
   "source": [
    "book_wgt.name ='Book Weight'\n",
    "print(book_wgt)"
   ]
  },
  {
   "cell_type": "code",
   "execution_count": 19,
   "id": "0b069f03",
   "metadata": {},
   "outputs": [
    {
     "data": {
      "text/html": [
       "<div>\n",
       "<style scoped>\n",
       "    .dataframe tbody tr th:only-of-type {\n",
       "        vertical-align: middle;\n",
       "    }\n",
       "\n",
       "    .dataframe tbody tr th {\n",
       "        vertical-align: top;\n",
       "    }\n",
       "\n",
       "    .dataframe thead th {\n",
       "        text-align: right;\n",
       "    }\n",
       "</style>\n",
       "<table border=\"1\" class=\"dataframe\">\n",
       "  <thead>\n",
       "    <tr style=\"text-align: right;\">\n",
       "      <th></th>\n",
       "      <th>no</th>\n",
       "      <th>bookname</th>\n",
       "      <th>authors</th>\n",
       "      <th>publisher</th>\n",
       "      <th>publication_year</th>\n",
       "      <th>isbn13</th>\n",
       "      <th>loan_count</th>\n",
       "      <th>class_nm</th>\n",
       "      <th>Book Weight</th>\n",
       "    </tr>\n",
       "  </thead>\n",
       "  <tbody>\n",
       "    <tr>\n",
       "      <th>0</th>\n",
       "      <td>1</td>\n",
       "      <td>우리가 빛의 속도로 갈 수 없다면 :김초엽 소설</td>\n",
       "      <td>지은이: 김초엽</td>\n",
       "      <td>허블</td>\n",
       "      <td>2019</td>\n",
       "      <td>9791190090018</td>\n",
       "      <td>461</td>\n",
       "      <td>문학 &gt; 한국문학 &gt; 소설</td>\n",
       "      <td>496g</td>\n",
       "    </tr>\n",
       "    <tr>\n",
       "      <th>1</th>\n",
       "      <td>2</td>\n",
       "      <td>달러구트 꿈 백화점.이미예 장편소설</td>\n",
       "      <td>지은이: 이미예</td>\n",
       "      <td>팩토리나인</td>\n",
       "      <td>2020</td>\n",
       "      <td>9791165341909</td>\n",
       "      <td>387</td>\n",
       "      <td>문학 &gt; 한국문학 &gt; 소설</td>\n",
       "      <td>358g</td>\n",
       "    </tr>\n",
       "    <tr>\n",
       "      <th>2</th>\n",
       "      <td>3</td>\n",
       "      <td>지구에서 한아뿐 :정세랑 장편소설</td>\n",
       "      <td>지은이: 정세랑</td>\n",
       "      <td>난다</td>\n",
       "      <td>2019</td>\n",
       "      <td>9791188862290</td>\n",
       "      <td>383</td>\n",
       "      <td>문학 &gt; 한국문학 &gt; 소설</td>\n",
       "      <td>296g</td>\n",
       "    </tr>\n",
       "    <tr>\n",
       "      <th>3</th>\n",
       "      <td>4</td>\n",
       "      <td>시선으로부터, :정세랑 장편소설</td>\n",
       "      <td>지은이: 정세랑</td>\n",
       "      <td>문학동네</td>\n",
       "      <td>2020</td>\n",
       "      <td>9788954672214</td>\n",
       "      <td>370</td>\n",
       "      <td>문학 &gt; 한국문학 &gt; 소설</td>\n",
       "      <td>412g</td>\n",
       "    </tr>\n",
       "    <tr>\n",
       "      <th>4</th>\n",
       "      <td>5</td>\n",
       "      <td>아몬드 :손원평 장편소설</td>\n",
       "      <td>지은이: 손원평</td>\n",
       "      <td>창비</td>\n",
       "      <td>2017</td>\n",
       "      <td>9788936434267</td>\n",
       "      <td>365</td>\n",
       "      <td>문학 &gt; 한국문학 &gt; 소설</td>\n",
       "      <td>388g</td>\n",
       "    </tr>\n",
       "    <tr>\n",
       "      <th>5</th>\n",
       "      <td>6</td>\n",
       "      <td>피프티 피플 :정세랑 장편소설</td>\n",
       "      <td>지은이: 정세랑</td>\n",
       "      <td>창비</td>\n",
       "      <td>2016</td>\n",
       "      <td>9788936434243</td>\n",
       "      <td>320</td>\n",
       "      <td>문학 &gt; 한국문학 &gt; 소설</td>\n",
       "      <td>512g</td>\n",
       "    </tr>\n",
       "    <tr>\n",
       "      <th>6</th>\n",
       "      <td>7</td>\n",
       "      <td>목소리를 드릴게요 :정세랑 소설집</td>\n",
       "      <td>지은이: 정세랑</td>\n",
       "      <td>아작</td>\n",
       "      <td>2020</td>\n",
       "      <td>9791165300005</td>\n",
       "      <td>319</td>\n",
       "      <td>문학 &gt; 한국문학 &gt; 소설</td>\n",
       "      <td>318g</td>\n",
       "    </tr>\n",
       "    <tr>\n",
       "      <th>7</th>\n",
       "      <td>8</td>\n",
       "      <td>나미야 잡화점의 기적 :히가시노 게이고 장편소설</td>\n",
       "      <td>지은이: 히가시노 게이고 ;옮긴이: 양윤옥</td>\n",
       "      <td>현대문학</td>\n",
       "      <td>2012</td>\n",
       "      <td>9788972756194</td>\n",
       "      <td>312</td>\n",
       "      <td>문학 &gt; 일본문학 &gt; 소설</td>\n",
       "      <td></td>\n",
       "    </tr>\n",
       "    <tr>\n",
       "      <th>8</th>\n",
       "      <td>9</td>\n",
       "      <td>선량한 차별주의자</td>\n",
       "      <td>김지혜 지음</td>\n",
       "      <td>창비</td>\n",
       "      <td>2019</td>\n",
       "      <td>9788936477196</td>\n",
       "      <td>293</td>\n",
       "      <td>사회과학 &gt; 사회학, 사회문제 &gt; 사회문제</td>\n",
       "      <td>324g</td>\n",
       "    </tr>\n",
       "    <tr>\n",
       "      <th>9</th>\n",
       "      <td>10</td>\n",
       "      <td>쇼코의 미소 :최은영 소설</td>\n",
       "      <td>지은이: 최은영</td>\n",
       "      <td>문학동네</td>\n",
       "      <td>2016</td>\n",
       "      <td>9788954641630</td>\n",
       "      <td>293</td>\n",
       "      <td>문학 &gt; 한국문학 &gt; 소설</td>\n",
       "      <td>406g</td>\n",
       "    </tr>\n",
       "  </tbody>\n",
       "</table>\n",
       "</div>"
      ],
      "text/plain": [
       "   no                     bookname                  authors publisher  \\\n",
       "0   1  우리가 빛의 속도로 갈 수 없다면 :김초엽 소설                  지은이: 김초엽        허블   \n",
       "1   2         달러구트 꿈 백화점.이미예 장편소설                  지은이: 이미예     팩토리나인   \n",
       "2   3          지구에서 한아뿐 :정세랑 장편소설                  지은이: 정세랑        난다   \n",
       "3   4           시선으로부터, :정세랑 장편소설                  지은이: 정세랑      문학동네   \n",
       "4   5               아몬드 :손원평 장편소설                  지은이: 손원평        창비   \n",
       "5   6            피프티 피플 :정세랑 장편소설                  지은이: 정세랑        창비   \n",
       "6   7          목소리를 드릴게요 :정세랑 소설집                  지은이: 정세랑        아작   \n",
       "7   8  나미야 잡화점의 기적 :히가시노 게이고 장편소설   지은이: 히가시노 게이고 ;옮긴이: 양윤옥      현대문학   \n",
       "8   9                   선량한 차별주의자                    김지혜 지음        창비   \n",
       "9  10              쇼코의 미소 :최은영 소설                  지은이: 최은영      문학동네   \n",
       "\n",
       "  publication_year         isbn13  loan_count                 class_nm  \\\n",
       "0             2019  9791190090018         461           문학 > 한국문학 > 소설   \n",
       "1             2020  9791165341909         387           문학 > 한국문학 > 소설   \n",
       "2             2019  9791188862290         383           문학 > 한국문학 > 소설   \n",
       "3             2020  9788954672214         370           문학 > 한국문학 > 소설   \n",
       "4             2017  9788936434267         365           문학 > 한국문학 > 소설   \n",
       "5             2016  9788936434243         320           문학 > 한국문학 > 소설   \n",
       "6             2020  9791165300005         319           문학 > 한국문학 > 소설   \n",
       "7             2012  9788972756194         312           문학 > 일본문학 > 소설   \n",
       "8             2019  9788936477196         293  사회과학 > 사회학, 사회문제 > 사회문제   \n",
       "9             2016  9788954641630         293           문학 > 한국문학 > 소설   \n",
       "\n",
       "  Book Weight  \n",
       "0        496g  \n",
       "1        358g  \n",
       "2        296g  \n",
       "3        412g  \n",
       "4        388g  \n",
       "5        512g  \n",
       "6        318g  \n",
       "7              \n",
       "8        324g  \n",
       "9        406g  "
      ]
     },
     "execution_count": 19,
     "metadata": {},
     "output_type": "execute_result"
    }
   ],
   "source": [
    "top10_with_wgt = pd.merge(top10_books, book_wgt, \n",
    "                                  left_index=True, right_index=True)\n",
    "top10_with_wgt"
   ]
  },
  {
   "cell_type": "code",
   "execution_count": null,
   "id": "1995773c",
   "metadata": {},
   "outputs": [],
   "source": []
  }
 ],
 "metadata": {
  "kernelspec": {
   "display_name": "Python 3 (ipykernel)",
   "language": "python",
   "name": "python3"
  },
  "language_info": {
   "codemirror_mode": {
    "name": "ipython",
    "version": 3
   },
   "file_extension": ".py",
   "mimetype": "text/x-python",
   "name": "python",
   "nbconvert_exporter": "python",
   "pygments_lexer": "ipython3",
   "version": "3.9.12"
  }
 },
 "nbformat": 4,
 "nbformat_minor": 5
}
