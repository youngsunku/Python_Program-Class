{
 "cells": [
  {
   "cell_type": "code",
   "execution_count": 1,
   "id": "8a3053b7",
   "metadata": {},
   "outputs": [],
   "source": [
    "result = 0"
   ]
  },
  {
   "cell_type": "code",
   "execution_count": 2,
   "id": "8c09478d",
   "metadata": {},
   "outputs": [],
   "source": [
    "def adder(num):\n",
    "    global result\n",
    "    result += num\n",
    "    return result"
   ]
  },
  {
   "cell_type": "code",
   "execution_count": 3,
   "id": "0d94df5a",
   "metadata": {},
   "outputs": [
    {
     "data": {
      "text/plain": [
       "3"
      ]
     },
     "execution_count": 3,
     "metadata": {},
     "output_type": "execute_result"
    }
   ],
   "source": [
    "adder(3)"
   ]
  },
  {
   "cell_type": "code",
   "execution_count": 4,
   "id": "11091a35",
   "metadata": {},
   "outputs": [
    {
     "data": {
      "text/plain": [
       "7"
      ]
     },
     "execution_count": 4,
     "metadata": {},
     "output_type": "execute_result"
    }
   ],
   "source": [
    "adder(4)"
   ]
  },
  {
   "cell_type": "code",
   "execution_count": 5,
   "id": "2962aa3d",
   "metadata": {},
   "outputs": [
    {
     "data": {
      "text/plain": [
       "12"
      ]
     },
     "execution_count": 5,
     "metadata": {},
     "output_type": "execute_result"
    }
   ],
   "source": [
    "adder(5)"
   ]
  },
  {
   "cell_type": "code",
   "execution_count": 6,
   "id": "8ea4cecd",
   "metadata": {},
   "outputs": [],
   "source": [
    "result1 = 0\n",
    "result2 = 0"
   ]
  },
  {
   "cell_type": "code",
   "execution_count": 7,
   "id": "ad26122b",
   "metadata": {},
   "outputs": [],
   "source": [
    "def adder1(num):\n",
    "    global result1\n",
    "    result1 += num\n",
    "    return result1"
   ]
  },
  {
   "cell_type": "code",
   "execution_count": 8,
   "id": "6453a8ba",
   "metadata": {},
   "outputs": [],
   "source": [
    "def adder2(num):\n",
    "    global result2\n",
    "    result2 += num\n",
    "    return result2"
   ]
  },
  {
   "cell_type": "code",
   "execution_count": 9,
   "id": "40ea28d6",
   "metadata": {},
   "outputs": [
    {
     "data": {
      "text/plain": [
       "3"
      ]
     },
     "execution_count": 9,
     "metadata": {},
     "output_type": "execute_result"
    }
   ],
   "source": [
    "adder1(3)"
   ]
  },
  {
   "cell_type": "code",
   "execution_count": 10,
   "id": "cf8ca6bb",
   "metadata": {},
   "outputs": [
    {
     "data": {
      "text/plain": [
       "7"
      ]
     },
     "execution_count": 10,
     "metadata": {},
     "output_type": "execute_result"
    }
   ],
   "source": [
    "adder1(4)"
   ]
  },
  {
   "cell_type": "code",
   "execution_count": 11,
   "id": "4491d205",
   "metadata": {},
   "outputs": [
    {
     "data": {
      "text/plain": [
       "3"
      ]
     },
     "execution_count": 11,
     "metadata": {},
     "output_type": "execute_result"
    }
   ],
   "source": [
    "adder2(3)"
   ]
  },
  {
   "cell_type": "code",
   "execution_count": 13,
   "id": "f6413d6e",
   "metadata": {},
   "outputs": [
    {
     "data": {
      "text/plain": [
       "7"
      ]
     },
     "execution_count": 13,
     "metadata": {},
     "output_type": "execute_result"
    }
   ],
   "source": [
    "adder2(4)"
   ]
  },
  {
   "cell_type": "code",
   "execution_count": 14,
   "id": "1ec1a01c",
   "metadata": {},
   "outputs": [],
   "source": [
    "class calculator:\n",
    "    def __init__(self):\n",
    "        self.result = 0\n",
    "    \n",
    "    def adder(self, num):\n",
    "        self.result += num\n",
    "        return self.result"
   ]
  },
  {
   "cell_type": "code",
   "execution_count": 15,
   "id": "984af369",
   "metadata": {},
   "outputs": [],
   "source": [
    "cal1 = calculator()"
   ]
  },
  {
   "cell_type": "code",
   "execution_count": 16,
   "id": "f2515e1f",
   "metadata": {},
   "outputs": [
    {
     "data": {
      "text/plain": [
       "3"
      ]
     },
     "execution_count": 16,
     "metadata": {},
     "output_type": "execute_result"
    }
   ],
   "source": [
    "cal1.adder(3)"
   ]
  },
  {
   "cell_type": "code",
   "execution_count": 19,
   "id": "05a4c5f9",
   "metadata": {},
   "outputs": [
    {
     "data": {
      "text/plain": [
       "7"
      ]
     },
     "execution_count": 19,
     "metadata": {},
     "output_type": "execute_result"
    }
   ],
   "source": [
    "cal1.adder(4)"
   ]
  },
  {
   "cell_type": "code",
   "execution_count": 20,
   "id": "84e18fe7",
   "metadata": {},
   "outputs": [],
   "source": [
    "cal2 = calculator()"
   ]
  },
  {
   "cell_type": "code",
   "execution_count": 21,
   "id": "04de87bd",
   "metadata": {},
   "outputs": [
    {
     "data": {
      "text/plain": [
       "100"
      ]
     },
     "execution_count": 21,
     "metadata": {},
     "output_type": "execute_result"
    }
   ],
   "source": [
    "cal2.adder(100)"
   ]
  },
  {
   "cell_type": "code",
   "execution_count": 22,
   "id": "5ecfcd2c",
   "metadata": {},
   "outputs": [
    {
     "data": {
      "text/plain": [
       "210"
      ]
     },
     "execution_count": 22,
     "metadata": {},
     "output_type": "execute_result"
    }
   ],
   "source": [
    "cal2.adder(110)"
   ]
  },
  {
   "cell_type": "code",
   "execution_count": 1,
   "id": "4dd82495",
   "metadata": {},
   "outputs": [],
   "source": [
    "class service:\n",
    "    secret = \"지구는 4006년에 멸망한다.\""
   ]
  },
  {
   "cell_type": "code",
   "execution_count": 3,
   "id": "a29f5d73",
   "metadata": {},
   "outputs": [],
   "source": [
    "s = service()"
   ]
  },
  {
   "cell_type": "code",
   "execution_count": 4,
   "id": "8aff0ba8",
   "metadata": {},
   "outputs": [
    {
     "data": {
      "text/plain": [
       "'지구는 4006년에 멸망한다.'"
      ]
     },
     "execution_count": 4,
     "metadata": {},
     "output_type": "execute_result"
    }
   ],
   "source": [
    "s.secret"
   ]
  },
  {
   "cell_type": "code",
   "execution_count": 5,
   "id": "08c39645",
   "metadata": {},
   "outputs": [
    {
     "data": {
      "text/plain": [
       "'지구는 4006년에 멸망한다.'"
      ]
     },
     "execution_count": 5,
     "metadata": {},
     "output_type": "execute_result"
    }
   ],
   "source": [
    "service.secret"
   ]
  },
  {
   "cell_type": "code",
   "execution_count": 6,
   "id": "4f689e8d",
   "metadata": {},
   "outputs": [],
   "source": [
    "class service:\n",
    "    secret = \"지구는 4006년에 멸망한다.\"\n",
    "    \n",
    "    def sum(self, a, b):\n",
    "        result = a + b\n",
    "        print(\"%s + %s = %s 이다.\" %(a,b,result))"
   ]
  },
  {
   "cell_type": "code",
   "execution_count": 7,
   "id": "41913026",
   "metadata": {},
   "outputs": [],
   "source": [
    "an = service()"
   ]
  },
  {
   "cell_type": "code",
   "execution_count": 9,
   "id": "b37a2558",
   "metadata": {},
   "outputs": [
    {
     "name": "stdout",
     "output_type": "stream",
     "text": [
      "1 + 1 = 2 이다.\n"
     ]
    }
   ],
   "source": [
    "an.sum(1,1)"
   ]
  },
  {
   "cell_type": "code",
   "execution_count": 14,
   "id": "17a4c6ac",
   "metadata": {},
   "outputs": [],
   "source": [
    "class service:\n",
    "    secret = \"지구는 4006년에 멸망한다.\"\n",
    "    \n",
    "    def setname(self, name):\n",
    "        self.name = name\n",
    "    def sum(self, a, b):\n",
    "        result = a + b\n",
    "        print(\"%s님, %s + %s = %s 이다.\" %(self.name, a, b, result))    "
   ]
  },
  {
   "cell_type": "code",
   "execution_count": 15,
   "id": "5307384b",
   "metadata": {},
   "outputs": [],
   "source": [
    "an = service()"
   ]
  },
  {
   "cell_type": "code",
   "execution_count": 16,
   "id": "6445fb01",
   "metadata": {},
   "outputs": [],
   "source": [
    "an.setname(\"박달도사\")"
   ]
  },
  {
   "cell_type": "code",
   "execution_count": 17,
   "id": "40d7a173",
   "metadata": {},
   "outputs": [
    {
     "name": "stdout",
     "output_type": "stream",
     "text": [
      "박달도사님, 1 + 1 = 2 이다.\n"
     ]
    }
   ],
   "source": [
    "an.sum(1,1)"
   ]
  },
  {
   "cell_type": "code",
   "execution_count": 18,
   "id": "f4a8d47a",
   "metadata": {},
   "outputs": [],
   "source": [
    "lee = service()"
   ]
  },
  {
   "cell_type": "code",
   "execution_count": 20,
   "id": "335ce4cb",
   "metadata": {},
   "outputs": [],
   "source": [
    "class service:\n",
    "    secret = \"지구는 4006년에 멸망한다.\"\n",
    "    \n",
    "    def __init__(self, name):\n",
    "        self.name = name\n",
    "    def sum(self, a, b):\n",
    "        result = a + b\n",
    "        print(\"%s님, %s + %s = %s 이다.\" %(self.name, a, b, result))    "
   ]
  },
  {
   "cell_type": "code",
   "execution_count": 24,
   "id": "e1a87301",
   "metadata": {},
   "outputs": [
    {
     "name": "stdout",
     "output_type": "stream",
     "text": [
      "박달도사님, 2 + 2 = 4 이다.\n"
     ]
    }
   ],
   "source": [
    "an = service(\"박달도사\")\n",
    "an.sum(2,2)"
   ]
  },
  {
   "cell_type": "code",
   "execution_count": 25,
   "id": "78f7d7ae",
   "metadata": {},
   "outputs": [],
   "source": [
    "class FourCal:\n",
    "    pass    "
   ]
  },
  {
   "cell_type": "code",
   "execution_count": 26,
   "id": "744b7773",
   "metadata": {},
   "outputs": [],
   "source": [
    "a = FourCal()"
   ]
  },
  {
   "cell_type": "code",
   "execution_count": 28,
   "id": "6fb70a1d",
   "metadata": {},
   "outputs": [
    {
     "name": "stdout",
     "output_type": "stream",
     "text": [
      "<class '__main__.FourCal'>\n"
     ]
    }
   ],
   "source": [
    "print(type(a))"
   ]
  },
  {
   "cell_type": "code",
   "execution_count": 44,
   "id": "5ed2ed4e",
   "metadata": {},
   "outputs": [],
   "source": [
    "class FourCal:\n",
    "    def setdata(self, first, second):\n",
    "        self.first = first\n",
    "        self.second = second    \n",
    "        \n",
    "    def sum(self):\n",
    "        result = self.first + self.second\n",
    "        return result\n",
    "    \n",
    "    def mul(self):\n",
    "        result = self.first * self.second\n",
    "        return result\n",
    "    \n",
    "    def sub(self):\n",
    "        result = self.first - self.second\n",
    "        return result\n",
    "    \n",
    "    def div(self):\n",
    "        result = self.first / self.second\n",
    "        return result"
   ]
  },
  {
   "cell_type": "code",
   "execution_count": 45,
   "id": "7d9b1450",
   "metadata": {},
   "outputs": [],
   "source": [
    "a = FourCal()"
   ]
  },
  {
   "cell_type": "code",
   "execution_count": 46,
   "id": "481b77d9",
   "metadata": {},
   "outputs": [],
   "source": [
    "a.setdata(4,6)"
   ]
  },
  {
   "cell_type": "code",
   "execution_count": 47,
   "id": "3d7a9370",
   "metadata": {},
   "outputs": [
    {
     "name": "stdout",
     "output_type": "stream",
     "text": [
      "10\n"
     ]
    }
   ],
   "source": [
    "print(a.sum())"
   ]
  },
  {
   "cell_type": "code",
   "execution_count": 48,
   "id": "de2979de",
   "metadata": {},
   "outputs": [
    {
     "name": "stdout",
     "output_type": "stream",
     "text": [
      "24\n"
     ]
    }
   ],
   "source": [
    "print(a.mul())"
   ]
  },
  {
   "cell_type": "code",
   "execution_count": null,
   "id": "c5e04196",
   "metadata": {},
   "outputs": [],
   "source": []
  }
 ],
 "metadata": {
  "kernelspec": {
   "display_name": "Python 3 (ipykernel)",
   "language": "python",
   "name": "python3"
  },
  "language_info": {
   "codemirror_mode": {
    "name": "ipython",
    "version": 3
   },
   "file_extension": ".py",
   "mimetype": "text/x-python",
   "name": "python",
   "nbconvert_exporter": "python",
   "pygments_lexer": "ipython3",
   "version": "3.9.12"
  }
 },
 "nbformat": 4,
 "nbformat_minor": 5
}
