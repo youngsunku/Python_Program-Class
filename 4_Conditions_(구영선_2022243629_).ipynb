{
  "nbformat": 4,
  "nbformat_minor": 0,
  "metadata": {
    "kernelspec": {
      "display_name": "Python 3",
      "language": "python",
      "name": "python3"
    },
    "language_info": {
      "codemirror_mode": {
        "name": "ipython",
        "version": 3
      },
      "file_extension": ".py",
      "mimetype": "text/x-python",
      "name": "python",
      "nbconvert_exporter": "python",
      "pygments_lexer": "ipython3",
      "version": "3.6.8"
    },
    "colab": {
      "provenance": [],
      "include_colab_link": true
    }
  },
  "cells": [
    {
      "cell_type": "markdown",
      "metadata": {
        "id": "view-in-github",
        "colab_type": "text"
      },
      "source": [
        "<a href=\"https://colab.research.google.com/github/youngsunku/Python_Program-Class/blob/main/4_Conditions_(%EA%B5%AC%EC%98%81%EC%84%A0_2022243629_).ipynb\" target=\"_parent\"><img src=\"https://colab.research.google.com/assets/colab-badge.svg\" alt=\"Open In Colab\"/></a>"
      ]
    },
    {
      "cell_type": "markdown",
      "metadata": {
        "id": "mlC9YPnZIoPG"
      },
      "source": [
        "<h1>Conditions in Python</h1>"
      ]
    },
    {
      "cell_type": "markdown",
      "metadata": {
        "id": "HGz4iyQ-IoPH"
      },
      "source": [
        "<p><strong>Welcome!</strong> This notebook will teach you about the condition statements in the Python Programming Language. By the end of this lab, you'll know how to use the condition statements in Python, including operators, and branching.</p>"
      ]
    },
    {
      "cell_type": "markdown",
      "metadata": {
        "id": "kg_LinQvIoPI"
      },
      "source": [
        "<h2 id=\"cond\">Condition Statements</h2>"
      ]
    },
    {
      "cell_type": "markdown",
      "metadata": {
        "id": "90nVu7YbIoPJ"
      },
      "source": [
        "<h3 id=\"comp\">Comparison Operators</h3>"
      ]
    },
    {
      "cell_type": "markdown",
      "metadata": {
        "id": "Vdhl3cQqIoPK"
      },
      "source": [
        "Comparison operations compare some value or operand and, based on a condition, they produce a Boolean. When comparing two values you can use these operators:\n",
        "\n",
        "<ul>\n",
        "    <li>equal: <b>==</b></li>\n",
        "    <li>not equal: <b>!=</b></li>\n",
        "    <li>greater than: <b>></b></li>\n",
        "    <li>less than: <b>&lt;</b></li>\n",
        "    <li>greater than or equal to: <b>>=</b></li>\n",
        "    <li>less than or equal to: <b>&lt;=</b></li>\n",
        "</ul>"
      ]
    },
    {
      "cell_type": "markdown",
      "metadata": {
        "id": "7b3dAOGqIoPK"
      },
      "source": [
        "Let's assign <code>a</code> a value of 5. Use the equality operator denoted with two equal <b>==</b> signs to determine if two values are equal. The case below compares the variable <code>a</code> with 6."
      ]
    },
    {
      "cell_type": "code",
      "metadata": {
        "id": "uuXKc1EfIoPL",
        "colab": {
          "base_uri": "https://localhost:8080/"
        },
        "outputId": "5b738c4f-1992-44a4-ce69-0d5b36b271bb"
      },
      "source": [
        "# Condition Equal\n",
        "\n",
        "a = 5\n",
        "a == 6 #a 가 6이니? "
      ],
      "execution_count": 1,
      "outputs": [
        {
          "output_type": "execute_result",
          "data": {
            "text/plain": [
              "False"
            ]
          },
          "metadata": {},
          "execution_count": 1
        }
      ]
    },
    {
      "cell_type": "markdown",
      "metadata": {
        "id": "ZZNAFPFNIoPO"
      },
      "source": [
        "The result is <b>False</b>, as 5 does not equal to 6."
      ]
    },
    {
      "cell_type": "markdown",
      "metadata": {
        "id": "3fqYFkp6IoPP"
      },
      "source": [
        "Consider the following equality comparison operator <code>i > 5</code>. If the value of the left operand, in this case the variable <b>i</b>, is greater than the value of the right operand, in this case 5, then the statement is <b>True</b>. Otherwise, the statement is <b>False</b>.  If <b>i</b> is equal to 6, because 6 is larger than 5, the output is <b>True</b>."
      ]
    },
    {
      "cell_type": "code",
      "metadata": {
        "id": "TtAj09goIoPP",
        "colab": {
          "base_uri": "https://localhost:8080/"
        },
        "outputId": "a63575bb-3a26-4f2b-e8a0-5e54d0c7d500"
      },
      "source": [
        "# Greater than Sign\n",
        "\n",
        "i = 6\n",
        "i > 7"
      ],
      "execution_count": 4,
      "outputs": [
        {
          "output_type": "execute_result",
          "data": {
            "text/plain": [
              "False"
            ]
          },
          "metadata": {},
          "execution_count": 4
        }
      ]
    },
    {
      "cell_type": "markdown",
      "metadata": {
        "id": "ZDvy8mesIoPS"
      },
      "source": [
        "Set <code>i = 2</code>. The statement is false as 2 is not greater than 5:"
      ]
    },
    {
      "cell_type": "code",
      "metadata": {
        "id": "NpEf-Y2-IoPS",
        "colab": {
          "base_uri": "https://localhost:8080/"
        },
        "outputId": "91297c18-b8fe-4c4a-adce-f11e42c0cf00"
      },
      "source": [
        "# Greater than Sign\n",
        "\n",
        "i = 2\n",
        "i > 5"
      ],
      "execution_count": 7,
      "outputs": [
        {
          "output_type": "execute_result",
          "data": {
            "text/plain": [
              "False"
            ]
          },
          "metadata": {},
          "execution_count": 7
        }
      ]
    },
    {
      "cell_type": "markdown",
      "metadata": {
        "id": "n47h3IH-IoPW"
      },
      "source": [
        "The inequality test uses an exclamation mark preceding the equal sign, if two operands are not equal then the condition becomes **True**.  For example, the following condition will produce **True** as long as the value of <code>i</code> is not equal to 6:"
      ]
    },
    {
      "cell_type": "code",
      "metadata": {
        "id": "ovJjMKCRIoPW",
        "colab": {
          "base_uri": "https://localhost:8080/"
        },
        "outputId": "311ce8c3-a38d-4003-8d1a-c4208eb8e924"
      },
      "source": [
        "# Inequality Sign\n",
        "\n",
        "i = 2\n",
        "i != 2 #!= not equal to... "
      ],
      "execution_count": 8,
      "outputs": [
        {
          "output_type": "execute_result",
          "data": {
            "text/plain": [
              "False"
            ]
          },
          "metadata": {},
          "execution_count": 8
        }
      ]
    },
    {
      "cell_type": "markdown",
      "metadata": {
        "id": "3DNtATdQIoPZ"
      },
      "source": [
        "When <code>i</code> equals 6 the inequality expression produces <b>False</b>. "
      ]
    },
    {
      "cell_type": "code",
      "metadata": {
        "id": "-RY7Zu0uIoPa",
        "colab": {
          "base_uri": "https://localhost:8080/"
        },
        "outputId": "76281955-216a-44cc-fba9-99181ff217c1"
      },
      "source": [
        "# Inequality Sign\n",
        "\n",
        "i = 6\n",
        "i != 6"
      ],
      "execution_count": 9,
      "outputs": [
        {
          "output_type": "execute_result",
          "data": {
            "text/plain": [
              "False"
            ]
          },
          "metadata": {},
          "execution_count": 9
        }
      ]
    },
    {
      "cell_type": "markdown",
      "metadata": {
        "id": "5L7IjBFJIoPd"
      },
      "source": [
        " We can apply the same methods on strings. For example, use an equality operator on two different strings. As the strings are not equal, we get a **False**."
      ]
    },
    {
      "cell_type": "code",
      "metadata": {
        "id": "GNZmEuBbIoPd",
        "colab": {
          "base_uri": "https://localhost:8080/"
        },
        "outputId": "e984eff9-d657-4cfd-8811-1af5353caec8"
      },
      "source": [
        "# Use Equality sign to compare the strings\n",
        "\n",
        "\"ACDC\" == \"Michael Jackson\""
      ],
      "execution_count": 10,
      "outputs": [
        {
          "output_type": "execute_result",
          "data": {
            "text/plain": [
              "False"
            ]
          },
          "metadata": {},
          "execution_count": 10
        }
      ]
    },
    {
      "cell_type": "markdown",
      "metadata": {
        "id": "u8w_VwwVIoPf"
      },
      "source": [
        " If we use the inequality operator, the output is going to be **True** as the strings are not equal."
      ]
    },
    {
      "cell_type": "code",
      "metadata": {
        "id": "IcqKREUoIoPg",
        "colab": {
          "base_uri": "https://localhost:8080/"
        },
        "outputId": "87cc6d20-de07-48fb-d654-45fb3498d4d0"
      },
      "source": [
        "# Use Inequality sign to compare the strings\n",
        "\n",
        "\"ACDC\" != \"Michael Jackson\""
      ],
      "execution_count": 11,
      "outputs": [
        {
          "output_type": "execute_result",
          "data": {
            "text/plain": [
              "True"
            ]
          },
          "metadata": {},
          "execution_count": 11
        }
      ]
    },
    {
      "cell_type": "markdown",
      "metadata": {
        "id": "h1dR9SqEIoPp"
      },
      "source": [
        "<h3 id=\"branch\">Branching</h3>"
      ]
    },
    {
      "cell_type": "markdown",
      "metadata": {
        "id": "neEzbDDgIoPp"
      },
      "source": [
        " Branching allows us to run different statements for different inputs. It is helpful to think of an **if statement** as a locked room, if the statement is **True** we can enter the room and your program will run some predefined tasks, but if the statement is **False** the program will ignore the task.\n"
      ]
    },
    {
      "cell_type": "markdown",
      "metadata": {
        "id": "-zv72ejvIoPq"
      },
      "source": [
        "For example, consider the blue rectangle representing an ACDC concert. If the individual is older than 18, they can enter the ACDC concert. If they are 18 or younger than 18 they cannot enter the concert.\n",
        "\n",
        "Use the condition statements learned before as the conditions need to be checked in the **if statement**. The syntax is as simple as <code> if <i>condition statement</i> :</code>, which contains a word <code>if</code>, any condition statement, and a colon at the end. Start your tasks which need to be executed under this condition in a new line with an indent. The lines of code after the colon and with an indent will only be executed when the **if statement** is **True**. The tasks will end when the line of code does not contain the indent.\n",
        "\n",
        "In the case below, the tasks executed <code>print(“you can enter”)</code> only occurs if the variable <code>age</code> is greater than 18 is a True case because this line of code has the indent. However, the execution of <code>print(“move on”)</code> will not be influenced by the if statement."
      ]
    },
    {
      "cell_type": "code",
      "metadata": {
        "id": "gaBCeNtnIoPq",
        "colab": {
          "base_uri": "https://localhost:8080/"
        },
        "outputId": "a92804a1-5af5-42a1-8a10-de20b26863c7"
      },
      "source": [
        "# If statement example\n",
        "\n",
        "age = 17\n",
        "\n",
        "#expression that can be true or false\n",
        "if age > 18:\n",
        "    #within an indent, we have the expression that is run if the condition is true\n",
        "  print(\"you can enter\" )\n",
        "else:\n",
        "  print(\"Prohibited\")  \n",
        "  print(\"okay\")\n",
        "\n",
        "#The statements after the if statement will run regardless if the condition is true or false \n",
        "#print(\"move on\")"
      ],
      "execution_count": 14,
      "outputs": [
        {
          "output_type": "stream",
          "name": "stdout",
          "text": [
            "Prohibited\n",
            "okay\n"
          ]
        }
      ]
    },
    {
      "cell_type": "markdown",
      "metadata": {
        "id": "QkynTkwpIoPs"
      },
      "source": [
        "<i>Try uncommenting the age variable</i>"
      ]
    },
    {
      "cell_type": "markdown",
      "metadata": {
        "id": "NAGlwGoHIoPt"
      },
      "source": [
        "It is helpful to use the following diagram to illustrate the process. On the left side, we see what happens when the condition is <b>True</b>.  The person enters the ACDC concert representing the code in the indent being executed; they then move on. On the right side, we see what happens when the condition is <b>False</b>; the person is not granted access, and the person moves on. In this case, the segment of code in the indent does not run, but the rest of the statements are run. "
      ]
    },
    {
      "cell_type": "markdown",
      "metadata": {
        "id": "_6DZ7WYYIoPt"
      },
      "source": [
        "<img src=\"https://s3-api.us-geo.objectstorage.softlayer.net/cf-courses-data/CognitiveClass/PY0101EN/Chapter%203/Images/CondsIf.gif\" width=\"650\" />"
      ]
    },
    {
      "cell_type": "markdown",
      "metadata": {
        "id": "WraB9wQfIoPu"
      },
      "source": [
        "The <code>else</code> statement runs a block of code if none of the conditions are **True** before this <code>else</code> statement. Let's use the ACDC concert analogy again. If the user is 17 they cannot go to the ACDC concert,  but they can go to the Meatloaf concert.\n",
        "The syntax of the <code>else</code> statement is similar as the syntax of the <code>if</code> statement, as <code>else :</code>. Notice that, there is no condition statement for <code>else</code>.\n",
        "Try changing the values of <code>age</code> to see what happens:  "
      ]
    },
    {
      "cell_type": "code",
      "metadata": {
        "id": "PHEjYU-7IoPu",
        "colab": {
          "base_uri": "https://localhost:8080/"
        },
        "outputId": "87eb0656-b40d-4818-ac62-f101eca72195"
      },
      "source": [
        "# Else statement example\n",
        "\n",
        "age = 18\n",
        "# age = 19\n",
        "\n",
        "if age > 18:\n",
        "  print(\"you can enter\" )\n",
        "else:\n",
        "  print(\"go see Meat Loaf\" )\n",
        "    \n",
        "print(\"move on\")"
      ],
      "execution_count": 15,
      "outputs": [
        {
          "output_type": "stream",
          "name": "stdout",
          "text": [
            "go see Meat Loaf\n",
            "move on\n"
          ]
        }
      ]
    },
    {
      "cell_type": "markdown",
      "metadata": {
        "id": "KE-SjhalIoPy"
      },
      "source": [
        "The process is demonstrated below, where each of the possibilities is illustrated on each side of the image. On the left is the case where the age is 17, we set the variable age to 17, and this corresponds to the individual attending the Meatloaf concert. The right portion shows what happens when the individual is over 18, in this case 19, and the individual is granted access to the concert."
      ]
    },
    {
      "cell_type": "markdown",
      "metadata": {
        "id": "0ZNyOAHtIoPz"
      },
      "source": [
        "<img src=\"https://s3-api.us-geo.objectstorage.softlayer.net/cf-courses-data/CognitiveClass/PY0101EN/Chapter%203/Images/CondsElse.gif\" width=\"650\" />"
      ]
    },
    {
      "cell_type": "markdown",
      "metadata": {
        "id": "lpbaOVF7IoP0"
      },
      "source": [
        "The <code>elif</code> statement, short for else if, allows us to check additional conditions if the condition statements before it are <b>False</b>. If the condition for the <code>elif</code> statement is <b>True</b>, the alternate expressions will be run. Consider the concert example, where if the individual is 18 they will go to the Pink Floyd concert instead of attending the ACDC or Meat-loaf concert. The person of 18 years of age enters the area, and as they are not older than 18 they can not see ACDC, but as they are 18 years of age, they attend  Pink Floyd. After seeing Pink Floyd, they move on. The syntax of the <code>elif</code> statement is similar in that we merely change the <code>if</code> in <code>if</code> statement to <code>elif</code>."
      ]
    },
    {
      "cell_type": "code",
      "metadata": {
        "id": "GX1L_xvJIoP0",
        "colab": {
          "base_uri": "https://localhost:8080/"
        },
        "outputId": "7cd92421-920c-4aff-a498-3d3633628e11"
      },
      "source": [
        "# Elif statment example\n",
        "\n",
        "age = 17\n",
        "\n",
        "if age > 18:\n",
        "    print(\"you can enter\" )\n",
        "elif age == 18: #else if \n",
        "    print(\"go see Pink Floyd\")\n",
        "elif age == 0:\n",
        "    print(\"this kid cannot leave home\") \n",
        "else:\n",
        "    print(\"go see Meat Loaf\" )\n",
        "    \n",
        "#print(\"move on\")"
      ],
      "execution_count": 16,
      "outputs": [
        {
          "output_type": "stream",
          "name": "stdout",
          "text": [
            "go see Meat Loaf\n"
          ]
        }
      ]
    },
    {
      "cell_type": "markdown",
      "metadata": {
        "id": "PynP2kn6IoP2"
      },
      "source": [
        "The three combinations are shown in the figure below.  The left-most region shows what happens when the individual is less than 18 years of age. The central component shows when the individual is exactly 18. The rightmost shows when the individual is over 18."
      ]
    },
    {
      "cell_type": "markdown",
      "metadata": {
        "id": "HtR5S194IoP3"
      },
      "source": [
        "<img src =\"https://s3-api.us-geo.objectstorage.softlayer.net/cf-courses-data/CognitiveClass/PY0101EN/Chapter%203/Images/CondsElif.gif\" width=\"650\" />"
      ]
    },
    {
      "cell_type": "markdown",
      "metadata": {
        "id": "1Nq4-TJrIoP3"
      },
      "source": [
        " Look at the following code:\n"
      ]
    },
    {
      "cell_type": "code",
      "metadata": {
        "id": "JEuKxd_lIoP3",
        "colab": {
          "base_uri": "https://localhost:8080/"
        },
        "outputId": "df1ac013-e55e-4b9f-b2eb-ccafde1a81d0"
      },
      "source": [
        "# Condition statement example\n",
        "\n",
        "album_year = 1983\n",
        "\n",
        "if album_year > 1980:\n",
        "    print(\"Album year is greater than 1980\")\n",
        "    \n",
        "print('do something..')"
      ],
      "execution_count": 18,
      "outputs": [
        {
          "output_type": "stream",
          "name": "stdout",
          "text": [
            "Album year is greater than 1980\n",
            "do something..\n"
          ]
        }
      ]
    },
    {
      "cell_type": "markdown",
      "metadata": {
        "id": "DxMkvtEUIoP5"
      },
      "source": [
        "Feel free to change <code>album_year</code> value to other values -- you'll see that the result changes!"
      ]
    },
    {
      "cell_type": "markdown",
      "metadata": {
        "id": "FShiGAhPIoP6"
      },
      "source": [
        "Notice that the code in the above <b>indented</b> block will only be executed if the results are <b>True</b>. "
      ]
    },
    {
      "cell_type": "markdown",
      "metadata": {
        "id": "HprkmqzHIoP6"
      },
      "source": [
        "As before, we can add an <code>else</code> block to the <code>if</code> block. The code in the <code>else</code> block will only be executed if the result is <b>False</b>.\n",
        "\n",
        "\n",
        "<b>Syntax:</b> \n",
        "\n",
        "if (condition):\n",
        "    # do something\n",
        "else:\n",
        "    # do something else"
      ]
    },
    {
      "cell_type": "markdown",
      "metadata": {
        "id": "F9DtUV5-IoP6"
      },
      "source": [
        "If the condition in the <code>if</code> statement is <b>False</b>, the statement after the <code>else</code> block will execute. This is demonstrated in the figure: "
      ]
    },
    {
      "cell_type": "markdown",
      "metadata": {
        "id": "U0xA7PWHIoP7"
      },
      "source": [
        "<img src=\"https://s3-api.us-geo.objectstorage.softlayer.net/cf-courses-data/CognitiveClass/PY0101EN/Chapter%203/Images/CondsLogicMap.png\" width=\"650\" />"
      ]
    },
    {
      "cell_type": "code",
      "metadata": {
        "id": "PlSWHoG8IoP7",
        "colab": {
          "base_uri": "https://localhost:8080/"
        },
        "outputId": "14bffd1d-54a9-4ce3-b1e4-8e6c99ea9d8b"
      },
      "source": [
        "# Condition statement example\n",
        "\n",
        "album_year = 1983\n",
        "#album_year = 1970\n",
        "\n",
        "if album_year > 1980:\n",
        "    print(\"Album year is greater than 1980\")\n",
        "else:\n",
        "    print(\"less than 1980\")\n",
        "\n",
        "print('do something..')"
      ],
      "execution_count": 19,
      "outputs": [
        {
          "output_type": "stream",
          "name": "stdout",
          "text": [
            "Album year is greater than 1980\n",
            "do something..\n"
          ]
        }
      ]
    },
    {
      "cell_type": "markdown",
      "metadata": {
        "id": "pKh_PSz6IoP9"
      },
      "source": [
        "Feel free to change the <code>album_year</code> value to other values -- you'll see that the result changes based on it!"
      ]
    },
    {
      "cell_type": "markdown",
      "metadata": {
        "id": "RCcARcwWIoP-"
      },
      "source": [
        "<h3 id=\"logic\">Logical operators</h3>"
      ]
    },
    {
      "cell_type": "markdown",
      "metadata": {
        "id": "znQ8jLBdIoP-"
      },
      "source": [
        "\n",
        "Sometimes you want to check more than one condition at once. For example, you might want to check if one condition and another condition is **True**. Logical operators allow you to combine or modify conditions.\n",
        "<ul>\n",
        "    <li><code>and</code></li>\n",
        "    <li><code>or</code></li>\n",
        "    <li><code>not</code></li>\n",
        "</ul>\n",
        "\n",
        "These operators are summarized for two variables using the following truth tables:  "
      ]
    },
    {
      "cell_type": "markdown",
      "metadata": {
        "id": "rq0NakFsIoP-"
      },
      "source": [
        "<img src=\"https://s3-api.us-geo.objectstorage.softlayer.net/cf-courses-data/CognitiveClass/PY0101EN/Chapter%203/Images/CondsTable.png\" width=\"650\" />"
      ]
    },
    {
      "cell_type": "markdown",
      "metadata": {
        "id": "_7F9Yt4nIoP_"
      },
      "source": [
        "The <code>and</code> statement is only **True** when both conditions are true. The <code>or</code> statement is true if one condition is **True**. The <code>not</code> statement outputs the opposite truth value."
      ]
    },
    {
      "cell_type": "markdown",
      "metadata": {
        "id": "C-WRA30_IoP_"
      },
      "source": [
        "Let's see how to determine if an album was released after 1979 (1979 is not included) and before 1990 (1990 is not included). The time periods between 1980 and 1989 satisfy this condition. This is demonstrated in the figure below. The green on lines <strong>a</strong> and <strong>b</strong> represents periods where the statement is **True**. The green on line <strong>c</strong> represents where both conditions are **True**, this corresponds to where the green regions overlap. \n",
        "\n"
      ]
    },
    {
      "cell_type": "markdown",
      "metadata": {
        "id": "UcTkI5OcIoQA"
      },
      "source": [
        "<img src=\"https://s3-api.us-geo.objectstorage.softlayer.net/cf-courses-data/CognitiveClass/PY0101EN/Chapter%203/Images/CondsEgOne.png\" width=\"650\" />"
      ]
    },
    {
      "cell_type": "markdown",
      "metadata": {
        "id": "ptVFiZ7pIoQB"
      },
      "source": [
        " The block of code to perform this check is given by:"
      ]
    },
    {
      "cell_type": "code",
      "metadata": {
        "id": "DxdbvEEwIoQC",
        "colab": {
          "base_uri": "https://localhost:8080/"
        },
        "outputId": "49dfe8e6-93df-43ee-a8b2-86e6bf16fd0c"
      },
      "source": [
        "# Condition statement example\n",
        "\n",
        "album_year = 1991\n",
        "\n",
        "if(album_year > 1979) and (album_year < 1990):\n",
        "    print (\"Album year was in between 1980 and 1989\")   \n",
        "else:\n",
        "    print(\"this is not the case\")"
      ],
      "execution_count": 20,
      "outputs": [
        {
          "output_type": "stream",
          "name": "stdout",
          "text": [
            "this is not the case\n"
          ]
        }
      ]
    },
    {
      "cell_type": "markdown",
      "metadata": {
        "id": "dsdLz0zBIoQE"
      },
      "source": [
        "To determine if an album was released before 1980 (~ - 1979) or after 1989 (1990 - ~), an **or** statement can be used. Periods before 1980 (~ - 1979) or after 1989 (1990 - ~) satisfy this condition. This is demonstrated in the following figure, the color green in <strong>a</strong> and <strong>b</strong> represents periods where the statement is true. The color green in **c** represents where at least one of the conditions \n",
        "are true.  \n"
      ]
    },
    {
      "cell_type": "markdown",
      "metadata": {
        "id": "oQHDf35NIoQF"
      },
      "source": [
        "<img src=\"https://s3-api.us-geo.objectstorage.softlayer.net/cf-courses-data/CognitiveClass/PY0101EN/Chapter%203/Images/CondsEgTwo.png\" width=\"650\" />"
      ]
    },
    {
      "cell_type": "markdown",
      "metadata": {
        "id": "uv16VvYUIoQF"
      },
      "source": [
        "The block of code to perform this check is given by:"
      ]
    },
    {
      "cell_type": "code",
      "metadata": {
        "id": "WX2I0sk6IoQF",
        "colab": {
          "base_uri": "https://localhost:8080/"
        },
        "outputId": "372e399c-4804-429a-f82c-a38acb7aca5f"
      },
      "source": [
        "# Condition statement example\n",
        "\n",
        "album_year = 1980\n",
        "\n",
        "if(album_year < 1980) or (album_year > 1989):\n",
        "    print (\"Album was not made in the 1980's\")\n",
        "else:\n",
        "    print(\"The Album was made in the 1980's \")"
      ],
      "execution_count": null,
      "outputs": [
        {
          "output_type": "stream",
          "name": "stdout",
          "text": [
            "The Album was made in the 1980's \n"
          ]
        }
      ]
    },
    {
      "cell_type": "markdown",
      "metadata": {
        "id": "dCrukLvGIoQH"
      },
      "source": [
        "The <code>not</code> statement checks if the statement is false:"
      ]
    },
    {
      "cell_type": "code",
      "metadata": {
        "id": "156Qj93IIoQI",
        "colab": {
          "base_uri": "https://localhost:8080/"
        },
        "outputId": "5d51b036-ca64-4933-f5db-07326264e4a0"
      },
      "source": [
        "# Condition statement example\n",
        "\n",
        "album_year = 1983\n",
        "\n",
        "if not (album_year == '1984'):\n",
        "    print (\"Album year is not 1984\")"
      ],
      "execution_count": 21,
      "outputs": [
        {
          "output_type": "stream",
          "name": "stdout",
          "text": [
            "Album year is not 1984\n"
          ]
        }
      ]
    },
    {
      "cell_type": "markdown",
      "metadata": {
        "id": "gGxL-OyzIoQJ"
      },
      "source": [
        "<hr>"
      ]
    },
    {
      "cell_type": "markdown",
      "metadata": {
        "id": "3IC26T7bIoQK"
      },
      "source": [
        "<h2 id=\"quiz\">Quiz on Conditions</h2>"
      ]
    },
    {
      "cell_type": "markdown",
      "metadata": {
        "id": "mt0VcGaoIoQK"
      },
      "source": [
        "Write an if statement to determine if an album had a rating greater than 8. Test it using the rating for the album <b>“Back in Black”</b> that had a rating of 8.5. If the statement is true print \"This album is Amazing!\""
      ]
    },
    {
      "cell_type": "code",
      "metadata": {
        "id": "uM3HRp4iIoQK",
        "outputId": "a3c56cc4-603b-429e-93ad-6525ca27ed46",
        "colab": {
          "base_uri": "https://localhost:8080/"
        }
      },
      "source": [
        "rating = 8.5\n",
        "if rating > 8:\n",
        "  print(\"This album is Amazing\")"
      ],
      "execution_count": 23,
      "outputs": [
        {
          "output_type": "stream",
          "name": "stdout",
          "text": [
            "This album is Amazing\n"
          ]
        }
      ]
    },
    {
      "cell_type": "markdown",
      "metadata": {
        "id": "2qou3rDyIoQN"
      },
      "source": [
        "Double-click __here__ for the solution.\n",
        "\n",
        "<!-- \n",
        "rating = 8.5\n",
        "if rating > 8:\n",
        "    print (\"This album is Amazing!\")\n",
        " -->"
      ]
    },
    {
      "cell_type": "markdown",
      "metadata": {
        "id": "ZNLbLpM8IoQO"
      },
      "source": [
        "<hr>"
      ]
    },
    {
      "cell_type": "markdown",
      "metadata": {
        "id": "PtR5F1i3IoQO"
      },
      "source": [
        "Write an if-else statement that performs the following. If the rating is larger then eight print “this album is amazing”. If the rating is less than or equal to 8 print “this album is ok”."
      ]
    },
    {
      "cell_type": "code",
      "metadata": {
        "id": "s4NbZlNLIoQO",
        "outputId": "c5a2c840-0918-49cc-d0af-0c6722811022",
        "colab": {
          "base_uri": "https://localhost:8080/"
        }
      },
      "source": [
        "rating = 8.5\n",
        "if rating > 8:\n",
        "  print(\"This album is Amazing\")\n",
        "else:\n",
        "  print(\"this album is ok\")"
      ],
      "execution_count": 27,
      "outputs": [
        {
          "output_type": "stream",
          "name": "stdout",
          "text": [
            "This album is Amazing\n"
          ]
        }
      ]
    },
    {
      "cell_type": "markdown",
      "metadata": {
        "id": "eIO85U1HIoQR"
      },
      "source": [
        "Double-click __here__ for the solution.\n",
        "\n",
        "<!-- \n",
        "rating = 8.5\n",
        "if rating > 8:\n",
        "    print (\"this album is amazing\")\n",
        "else:\n",
        "    print (\"this album is ok\")\n",
        "-->"
      ]
    },
    {
      "cell_type": "markdown",
      "metadata": {
        "id": "Ickq5nDuIoQR"
      },
      "source": [
        "<hr>"
      ]
    },
    {
      "cell_type": "markdown",
      "metadata": {
        "id": "xlvACVa3IoQS"
      },
      "source": [
        "Write an if statement to determine if an album came out before 1980 or in the years: 1991 or 1993. If the condition is true print out the year the album came out."
      ]
    },
    {
      "cell_type": "code",
      "metadata": {
        "id": "w0ys9FArIoQS",
        "outputId": "88fc43fa-fbd8-42e8-a812-3e0b6fedc1d2",
        "colab": {
          "base_uri": "https://localhost:8080/"
        }
      },
      "source": [
        "album_year = 1991\n",
        "if (album_year < 1980):\n",
        "  print(\"This album came out before 1980\")\n",
        "elif (album_year == 1991) or (album_year == 1993):\n",
        "  print(\"This album came out in\",album_year)"
      ],
      "execution_count": 38,
      "outputs": [
        {
          "output_type": "stream",
          "name": "stdout",
          "text": [
            "This album came out in 1991\n"
          ]
        }
      ]
    },
    {
      "cell_type": "markdown",
      "metadata": {
        "id": "W9xtMYLcIoQU"
      },
      "source": [
        "Double-click __here__ for the solution.\n",
        "\n",
        "<!-- \n",
        "album_year = 1979\n",
        "\n",
        "if album_year < 1980 or album_year == 1991 or album_year == 1993:\n",
        "    print (\"this album came out already\")\n",
        "-->"
      ]
    },
    {
      "cell_type": "markdown",
      "metadata": {
        "id": "3qbaPIlLIoQU"
      },
      "source": [
        "<hr>\n",
        "<h2>The last exercise!</h2>\n",
        "<p>Congratulations, you have completed your first lesson and hands-on lab in Python. However, there is one more thing you need to do. The Data Science community encourages sharing work. The best way to share and showcase your work is to share it on GitHub. By sharing your notebook on GitHub you are not only building your reputation with fellow data scientists, but you can also show it off when applying for a job. Even though this was your first piece of work, it is never too early to start building good habits. Please submit all your exercises to Github & let the traces in our LMS, so for me to access your work.\n",
        "<hr>"
      ]
    },
    {
      "cell_type": "markdown",
      "metadata": {
        "id": "xWlHxzXyIoQW"
      },
      "source": [
        "<hr>"
      ]
    },
    {
      "cell_type": "markdown",
      "metadata": {
        "id": "uR6ZtMlKIoQW"
      },
      "source": [
        "<p>Copyright &copy; 2023 RYU HOKYOUNG based on 2018 IBM Developer Skills Network. This notebook and its source code are released under the terms of the <a href=\"https://cognitiveclass.ai/mit-license/\">MIT License</a>.</p>"
      ]
    }
  ]
}