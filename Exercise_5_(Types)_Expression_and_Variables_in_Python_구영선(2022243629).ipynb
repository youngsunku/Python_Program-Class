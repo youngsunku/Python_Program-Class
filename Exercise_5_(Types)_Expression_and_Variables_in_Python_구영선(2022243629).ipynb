{
  "nbformat": 4,
  "nbformat_minor": 0,
  "metadata": {
    "colab": {
      "provenance": [],
      "include_colab_link": true
    },
    "kernelspec": {
      "name": "python3",
      "display_name": "Python 3"
    },
    "language_info": {
      "name": "python"
    }
  },
  "cells": [
    {
      "cell_type": "markdown",
      "metadata": {
        "id": "view-in-github",
        "colab_type": "text"
      },
      "source": [
        "<a href=\"https://colab.research.google.com/github/youngsunku/Python_Program-Class/blob/main/Exercise_5_(Types)_Expression_and_Variables_in_Python_%EA%B5%AC%EC%98%81%EC%84%A0(2022243629).ipynb\" target=\"_parent\"><img src=\"https://colab.research.google.com/assets/colab-badge.svg\" alt=\"Open In Colab\"/></a>"
      ]
    },
    {
      "cell_type": "code",
      "execution_count": 2,
      "metadata": {
        "id": "uny812H9mFXK",
        "colab": {
          "base_uri": "https://localhost:8080/"
        },
        "outputId": "ae067963-1d67-4f57-bb92-d109b1c5690f"
      },
      "outputs": [
        {
          "output_type": "execute_result",
          "data": {
            "text/plain": [
              "7"
            ]
          },
          "metadata": {},
          "execution_count": 2
        }
      ],
      "source": [
        "x = 3+2*2\n",
        "print(x)"
      ]
    },
    {
      "cell_type": "code",
      "source": [
        "y = (3+2)*2\n",
        "print(y)"
      ],
      "metadata": {
        "id": "X1bhbxgUmzG_",
        "colab": {
          "base_uri": "https://localhost:8080/"
        },
        "outputId": "843b3634-db0d-4c04-9e19-ab8799feb3a2"
      },
      "execution_count": 3,
      "outputs": [
        {
          "output_type": "stream",
          "name": "stdout",
          "text": [
            "10\n"
          ]
        }
      ]
    },
    {
      "cell_type": "code",
      "source": [
        "z = x+y\n",
        "print(z)"
      ],
      "metadata": {
        "id": "Vj12WYxgm6V9",
        "colab": {
          "base_uri": "https://localhost:8080/"
        },
        "outputId": "a807ac1d-8118-4381-b87d-025dd87a9f52"
      },
      "execution_count": 4,
      "outputs": [
        {
          "output_type": "stream",
          "name": "stdout",
          "text": [
            "17\n"
          ]
        }
      ]
    }
  ]
}